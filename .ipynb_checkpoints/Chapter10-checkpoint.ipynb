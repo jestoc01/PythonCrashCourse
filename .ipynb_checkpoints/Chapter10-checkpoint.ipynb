{
 "cells": [
  {
   "cell_type": "markdown",
   "metadata": {},
   "source": [
    "# Chapter 10 (Python Crash Course 2nd ed.)"
   ]
  },
  {
   "cell_type": "markdown",
   "metadata": {},
   "source": [
    "## ... shows how to open a file and print it one line at a time"
   ]
  },
  {
   "cell_type": "code",
   "execution_count": 1,
   "metadata": {},
   "outputs": [
    {
     "name": "stdout",
     "output_type": "stream",
     "text": [
      "This is a test\n",
      "\n",
      "Line 1\n",
      "\n",
      "Line 2\n",
      "\n",
      " \n",
      "\n"
     ]
    }
   ],
   "source": [
    "filename = 'data.txt'\n",
    "with open(filename) as file_object:\n",
    "    for line in file_object:\n",
    "        print(line)\n",
    "\n",
    " \n",
    "        \n",
    "    \n",
    "                  \n",
    "    "
   ]
  },
  {
   "cell_type": "markdown",
   "metadata": {},
   "source": [
    "## .. The above print function adds a newline to the already existing newline.  \n",
    "## This extra blank line can be removed using the rstrip() method"
   ]
  },
  {
   "cell_type": "code",
   "execution_count": 2,
   "metadata": {},
   "outputs": [
    {
     "name": "stdout",
     "output_type": "stream",
     "text": [
      "This is a test\n",
      "Line 1\n",
      "Line 2\n",
      "\n"
     ]
    }
   ],
   "source": [
    "filename = 'data.txt'\n",
    "with open(filename) as file_object:\n",
    "    for line in file_object:\n",
    "        print(line.rstrip())\n"
   ]
  },
  {
   "cell_type": "markdown",
   "metadata": {},
   "source": [
    "## ... and how to add error checking "
   ]
  },
  {
   "cell_type": "code",
   "execution_count": 3,
   "metadata": {},
   "outputs": [
    {
     "name": "stdout",
     "output_type": "stream",
     "text": [
      "That file doesn't exist would you like to create it?\n"
     ]
    }
   ],
   "source": [
    "filename = 'dat.txt'\n",
    "try:\n",
    "    with open(filename) as file_object:\n",
    "        for line in file_object:\n",
    "            print(line)\n",
    "except FileNotFoundError:\n",
    "    print(\"That file doesn't exist would you like to create it?\")\n",
    " "
   ]
  },
  {
   "cell_type": "markdown",
   "metadata": {
    "collapsed": true
   },
   "source": [
    "## ... Chapter 10 shows how to load the entire file and then print it"
   ]
  },
  {
   "cell_type": "code",
   "execution_count": 4,
   "metadata": {},
   "outputs": [
    {
     "name": "stdout",
     "output_type": "stream",
     "text": [
      "This is a test\n",
      "Line 1\n",
      "Line 2\n",
      " \n",
      "\n"
     ]
    }
   ],
   "source": [
    "filename = 'data.txt'\n",
    "with open(filename) as file_object:\n",
    "    contents = file_object.read()\n",
    "    print(contents)\n",
    "        "
   ]
  },
  {
   "cell_type": "markdown",
   "metadata": {},
   "source": [
    "## ... the above code returns an extra blank line at the end that can be removed by .rstrip()"
   ]
  },
  {
   "cell_type": "code",
   "execution_count": 5,
   "metadata": {},
   "outputs": [
    {
     "name": "stdout",
     "output_type": "stream",
     "text": [
      "This is a test\n",
      "Line 1\n",
      "Line 2\n"
     ]
    }
   ],
   "source": [
    "filename = 'data.txt'\n",
    "with open(filename) as file_object:\n",
    "    contents = file_object.read()\n",
    "    print(contents.rstrip())"
   ]
  },
  {
   "cell_type": "code",
   "execution_count": null,
   "metadata": {},
   "outputs": [],
   "source": []
  }
 ],
 "metadata": {
  "kernelspec": {
   "display_name": "Python 3",
   "language": "python",
   "name": "python3"
  },
  "language_info": {
   "codemirror_mode": {
    "name": "ipython",
    "version": 3
   },
   "file_extension": ".py",
   "mimetype": "text/x-python",
   "name": "python",
   "nbconvert_exporter": "python",
   "pygments_lexer": "ipython3",
   "version": "3.8.5"
  }
 },
 "nbformat": 4,
 "nbformat_minor": 4
}
